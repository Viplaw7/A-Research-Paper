{
  "nbformat": 4,
  "nbformat_minor": 0,
  "metadata": {
    "colab": {
      "provenance": [],
      "authorship_tag": "ABX9TyPALID/fnTTKYmcmJlw7MBU",
      "include_colab_link": true
    },
    "kernelspec": {
      "name": "python3",
      "display_name": "Python 3"
    },
    "language_info": {
      "name": "python"
    }
  },
  "cells": [
    {
      "cell_type": "markdown",
      "metadata": {
        "id": "view-in-github",
        "colab_type": "text"
      },
      "source": [
        "<a href=\"https://colab.research.google.com/github/Viplaw7/A-Research-Paper/blob/main/loop.ipynb\" target=\"_parent\"><img src=\"https://colab.research.google.com/assets/colab-badge.svg\" alt=\"Open In Colab\"/></a>"
      ]
    },
    {
      "cell_type": "markdown",
      "source": [
        "#Printing Numbers"
      ],
      "metadata": {
        "id": "1EoR6g5GIOPd"
      }
    },
    {
      "cell_type": "code",
      "execution_count": null,
      "metadata": {
        "colab": {
          "base_uri": "https://localhost:8080/"
        },
        "id": "5r8gvQ7dHTDH",
        "outputId": "c1588b87-8f5b-4f32-84df-6dbb799f8961"
      },
      "outputs": [
        {
          "output_type": "stream",
          "name": "stdout",
          "text": [
            "1\n",
            "2\n",
            "3\n",
            "4\n",
            "5\n",
            "6\n",
            "7\n",
            "8\n",
            "9\n"
          ]
        }
      ],
      "source": [
        "for i in range(1, 10):\n",
        "  print(i)\n"
      ]
    },
    {
      "cell_type": "markdown",
      "source": [
        "#Computing Squares of Numbers"
      ],
      "metadata": {
        "id": "yzPTxUgBISI4"
      }
    },
    {
      "cell_type": "code",
      "source": [
        "squares=[]\n",
        "for i in range(1, 10):\n",
        "    squares.append(i**2)\n",
        "    print(squares)"
      ],
      "metadata": {
        "colab": {
          "base_uri": "https://localhost:8080/"
        },
        "id": "hbIRSp2IIIFc",
        "outputId": "7fbda35e-d709-4edf-cbeb-70fd30497f50"
      },
      "execution_count": null,
      "outputs": [
        {
          "output_type": "stream",
          "name": "stdout",
          "text": [
            "[1]\n",
            "[1, 4]\n",
            "[1, 4, 9]\n",
            "[1, 4, 9, 16]\n",
            "[1, 4, 9, 16, 25]\n",
            "[1, 4, 9, 16, 25, 36]\n",
            "[1, 4, 9, 16, 25, 36, 49]\n",
            "[1, 4, 9, 16, 25, 36, 49, 64]\n",
            "[1, 4, 9, 16, 25, 36, 49, 64, 81]\n"
          ]
        }
      ]
    },
    {
      "cell_type": "markdown",
      "source": [
        "#Plotting a Simple Graph"
      ],
      "metadata": {
        "id": "JqBh_8e4Jki5"
      }
    },
    {
      "cell_type": "code",
      "source": [
        "import matplotlib.pyplot as plt\n",
        "#Data\n",
        "x= range(1, 11)\n",
        "y= [i **2 for i in x]\n",
        "#Plot\n",
        "plt.plot(x, y, marker='o')\n",
        "plt.title('Square Numbers')\n",
        "plt.xlabel('Number')\n",
        "plt.ylabel('Square of Number')\n",
        "plt.grid(True)\n",
        "plt.show()\n"
      ],
      "metadata": {
        "colab": {
          "base_uri": "https://localhost:8080/",
          "height": 472
        },
        "id": "e-MgstwAJqV7",
        "outputId": "16977a5f-f681-41a2-b78b-5fefd8eef353"
      },
      "execution_count": null,
      "outputs": [
        {
          "output_type": "display_data",
          "data": {
            "text/plain": [
              "<Figure size 640x480 with 1 Axes>"
            ],
            "image/png": "[encoded data removed]"
          },
          "metadata": {}
        }
      ]
    },
    {
      "cell_type": "markdown",
      "source": [
        "#Reading and Processing Data from a CSV File"
      ],
      "metadata": {
        "id": "6ZSdtQ60Lz9Q"
      }
    },
    {
      "cell_type": "code",
      "source": [
        "import pandas as pd\n",
        "\n",
        "# Create a sample DataFrame\n",
        "data = {'Name': ['Viplaw', 'Prawal', 'Teju', 'Don', 'Super'],\n",
        "        'Age': [24, 27, 22, 32, 29]}\n",
        "\n",
        "df = pd.DataFrame(data)\n",
        "\n",
        "# Print each row in the DataFrame\n",
        "for index, row in df.iterrows():\n",
        "    print(f\"Index: {index}, Name: {row['Name']}, Age: {row['Age']}\")\n"
      ],
      "metadata": {
        "colab": {
          "base_uri": "https://localhost:8080/"
        },
        "id": "slloi244L8Hv",
        "outputId": "dd8b6a55-fd6e-4e94-81bb-72cea9bd47ac"
      },
      "execution_count": null,
      "outputs": [
        {
          "output_type": "stream",
          "name": "stdout",
          "text": [
            "Index: 0, Name: Viplaw, Age: 24\n",
            "Index: 1, Name: Prawal, Age: 27\n",
            "Index: 2, Name: Teju, Age: 22\n",
            "Index: 3, Name: Don, Age: 32\n",
            "Index: 4, Name: Super, Age: 29\n"
          ]
        }
      ]
    },
    {
      "cell_type": "markdown",
      "source": [
        "#Nested loops are useful when you need to perform operations involving multiple dimensions"
      ],
      "metadata": {
        "id": "gY6-NUtDPUFB"
      }
    },
    {
      "cell_type": "code",
      "source": [
        "# Create a 3x3 matrix and print each element\n",
        "matrix = [\n",
        "    [13, 2, 3],\n",
        "    [4, 15, 6],\n",
        "    [7, 0, 9]\n",
        "]\n",
        "\n",
        "for row in matrix:\n",
        "    for element in row:\n",
        "        print(element, end=' ')\n",
        "    print()\n"
      ],
      "metadata": {
        "colab": {
          "base_uri": "https://localhost:8080/"
        },
        "id": "eVV7qPIjPSX2",
        "outputId": "0b712946-9a6e-46fc-8ba5-73a58714c3fa"
      },
      "execution_count": null,
      "outputs": [
        {
          "output_type": "stream",
          "name": "stdout",
          "text": [
            "13 2 3 \n",
            "4 15 6 \n",
            "7 0 9 \n"
          ]
        }
      ]
    },
    {
      "cell_type": "markdown",
      "source": [
        "#Loops combined with conditionals can be used for filtering data.\n",
        "\n"
      ],
      "metadata": {
        "id": "LoWoU9dCPhem"
      }
    },
    {
      "cell_type": "code",
      "source": [
        "# Filter even numbers from a list\n",
        "numbers = range(1, 21)\n",
        "even_numbers = []\n",
        "\n",
        "for num in numbers:\n",
        "    if num % 2 == 0:\n",
        "        even_numbers.append(num)\n",
        "\n",
        "print(\"Even numbers:\", even_numbers)\n"
      ],
      "metadata": {
        "colab": {
          "base_uri": "https://localhost:8080/"
        },
        "id": "PkHfZYNAPsXw",
        "outputId": "deaa2600-ea04-46cf-a7a8-49077ac0300e"
      },
      "execution_count": null,
      "outputs": [
        {
          "output_type": "stream",
          "name": "stdout",
          "text": [
            "Even numbers: [2, 4, 6, 8, 10, 12, 14, 16, 18, 20]\n"
          ]
        }
      ]
    },
    {
      "cell_type": "markdown",
      "source": [
        "#while loop can be used when the number of iterations is not known beforehand\n"
      ],
      "metadata": {
        "id": "dBhiKDIUPy0U"
      }
    },
    {
      "cell_type": "code",
      "source": [
        "# Print numbers until a condition is met\n",
        "count = 0\n",
        "while count < 5:\n",
        "    print(\"Count:\", count)\n",
        "    count += 1\n"
      ],
      "metadata": {
        "colab": {
          "base_uri": "https://localhost:8080/"
        },
        "id": "Cqd2ogQVP6rW",
        "outputId": "6e0ad761-33a8-4c15-ee6d-a717fc91bf0b"
      },
      "execution_count": null,
      "outputs": [
        {
          "output_type": "stream",
          "name": "stdout",
          "text": [
            "Count: 0\n",
            "Count: 1\n",
            "Count: 2\n",
            "Count: 3\n",
            "Count: 4\n"
          ]
        }
      ]
    },
    {
      "cell_type": "markdown",
      "source": [
        "#Looping through a Dictionary"
      ],
      "metadata": {
        "id": "8vFIYoR8QDId"
      }
    },
    {
      "cell_type": "code",
      "source": [
        "# Create a dictionary and print keys and values\n",
        "student_grades = {'Viplaw': 'V', 'Bhandari': 'B', 'Sharma': 'S'}\n",
        "\n",
        "for student, grade in student_grades.items():\n",
        "    print(f\"Student: {student}, Grade: {grade}\")\n"
      ],
      "metadata": {
        "colab": {
          "base_uri": "https://localhost:8080/"
        },
        "id": "gogEYyekQLQd",
        "outputId": "8ed16ff4-ee94-4ee6-fbb4-5e85f28aaf1e"
      },
      "execution_count": null,
      "outputs": [
        {
          "output_type": "stream",
          "name": "stdout",
          "text": [
            "Student: Viplaw, Grade: V\n",
            "Student: Bhandari, Grade: B\n",
            "Student: Sharma, Grade: S\n"
          ]
        }
      ]
    },
    {
      "cell_type": "markdown",
      "source": [
        "#Using enumerate in a Loop\n"
      ],
      "metadata": {
        "id": "0MF9YEKrQPTf"
      }
    },
    {
      "cell_type": "code",
      "source": [
        "# Print elements with their index\n",
        "fruits = ['apple', 'banana', 'cherry']\n",
        "\n",
        "for index, fruit in enumerate(fruits):\n",
        "    print(f\"Index: {index}, Fruit: {fruit}\")\n"
      ],
      "metadata": {
        "colab": {
          "base_uri": "https://localhost:8080/"
        },
        "id": "NYFt6tCHQUFN",
        "outputId": "f240eabc-9736-4647-889f-56f96b21497d"
      },
      "execution_count": null,
      "outputs": [
        {
          "output_type": "stream",
          "name": "stdout",
          "text": [
            "Index: 0, Fruit: apple\n",
            "Index: 1, Fruit: banana\n",
            "Index: 2, Fruit: cherry\n"
          ]
        }
      ]
    },
    {
      "cell_type": "markdown",
      "source": [
        "#Loop with zip to Iterate Multiple Lists\n",
        "\n"
      ],
      "metadata": {
        "id": "xxvbwpykQXxX"
      }
    },
    {
      "cell_type": "code",
      "source": [
        "# Iterate through two lists in parallel\n",
        "names = ['Shiva', 'Krishna', 'Aanandamurti']\n",
        "ages = [24, 27, 22]\n",
        "\n",
        "for name, age in zip(names, ages):\n",
        "    print(f\"{name} is {age} years old\")\n"
      ],
      "metadata": {
        "colab": {
          "base_uri": "https://localhost:8080/"
        },
        "id": "tfkfFLv0QhKX",
        "outputId": "f514bf5d-3675-4a94-d47e-0a88e3dbe6f3"
      },
      "execution_count": null,
      "outputs": [
        {
          "output_type": "stream",
          "name": "stdout",
          "text": [
            "Shiva is 24 years old\n",
            "Krishna is 27 years old\n",
            "Aanandamurti is 22 years old\n"
          ]
        }
      ]
    },
    {
      "cell_type": "markdown",
      "source": [
        "#Loop with try-except for Error Handling"
      ],
      "metadata": {
        "id": "w4uu2nVDQkPM"
      }
    },
    {
      "cell_type": "code",
      "source": [
        "## Try-except inside a loop\n",
        "data = ['10', '20', 'thirty', '40', 'fifty']\n",
        "\n",
        "for item in data:\n",
        "    try:\n",
        "        num = int(item)\n",
        "        print(f\"Converted '{item}' to {num}\")\n",
        "    except ValueError:\n",
        "        print(f\"Error converting '{item}' to integer\")\n"
      ],
      "metadata": {
        "colab": {
          "base_uri": "https://localhost:8080/"
        },
        "id": "jo8mbMFaQtWS",
        "outputId": "6346b341-a814-4714-db30-7dfb4247408d"
      },
      "execution_count": null,
      "outputs": [
        {
          "output_type": "stream",
          "name": "stdout",
          "text": [
            "Converted '10' to 10\n",
            "Converted '20' to 20\n",
            "Error converting 'thirty' to integer\n",
            "Converted '40' to 40\n",
            "Error converting 'fifty' to integer\n"
          ]
        }
      ]
    },
    {
      "cell_type": "markdown",
      "source": [
        "#Using List Comprehensions"
      ],
      "metadata": {
        "id": "-n--E3EFQwoy"
      }
    },
    {
      "cell_type": "code",
      "source": [
        "# Create a list of squares using list comprehension\n",
        "squares = [i ** 2 for i in range(1, 11)]\n",
        "print(squares)\n"
      ],
      "metadata": {
        "colab": {
          "base_uri": "https://localhost:8080/"
        },
        "id": "bqByDgrNQ0eg",
        "outputId": "aa268657-c0cd-448f-954a-6670592e42da"
      },
      "execution_count": null,
      "outputs": [
        {
          "output_type": "stream",
          "name": "stdout",
          "text": [
            "[1, 4, 9, 16, 25, 36, 49, 64, 81, 100]\n"
          ]
        }
      ]
    }
  ]
}